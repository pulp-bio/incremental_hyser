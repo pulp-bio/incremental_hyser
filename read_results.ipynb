{
 "cells": [
  {
   "cell_type": "code",
   "execution_count": 1,
   "metadata": {},
   "outputs": [],
   "source": [
    "import pickle\n",
    "\n",
    "import numpy as np\n",
    "import matplotlib.pyplot as plt\n",
    "\n",
    "from incremental_hyser.hyser import hyser as hy"
   ]
  },
  {
   "cell_type": "code",
   "execution_count": 17,
   "metadata": {},
   "outputs": [],
   "source": [
    "results = pickle.load(open('./results/prova.pkl', 'rb'))['results']\n",
    "\n",
    "mae_dict = {\n",
    "    'stage': {\n",
    "        0: {'onedof': {'day': {}}, 'ndof': {'day': {}}, 'random': {'day': {}}},\n",
    "        1: {'onedof': {'day': {}}, 'ndof': {'day': {}}, 'random': {'day': {}}},\n",
    "        2: {'onedof': {'day': {}}, 'ndof': {'day': {}}, 'random': {'day': {}}},\n",
    "    }\n",
    "}\n",
    "\n",
    "for idx_stage in [0, 1, 2]:\n",
    "    for idx_day in range(hy.NUM_SESSIONS):\n",
    "        mae_dict['stage'][idx_stage]['onedof']['day'][idx_day] = np.zeros((hy.NUM_SUBJECTS, hy.NUM_FINGERS, hy.NUM_TRIALS_ONEDOF, hy.NUM_FINGERS), dtype=np.float32)\n",
    "        mae_dict['stage'][idx_stage]['ndof']['day'][idx_day] = np.zeros((hy.NUM_SUBJECTS, hy.NUM_COMBINATIONS_NDOF, hy.NUM_TRIALS_NDOF, hy.NUM_FINGERS), dtype=np.float32)\n",
    "        mae_dict['stage'][idx_stage]['random']['day'][idx_day] = np.zeros((hy.NUM_SUBJECTS, hy.NUM_TRIALS_RANDOM, hy.NUM_FINGERS), dtype=np.float32)\n",
    "\n",
    "        for idx_subj in range(hy.NUM_SUBJECTS):\n",
    "\n",
    "            # onedof\n",
    "            # for idx_finger in range(hy.NUM_FINGERS):\n",
    "            #    for idx_trial in range(hy.NUM_TRIALS_ONEDOF):\n",
    "            #        mae_dict['stage'][idx_stage]['onedof']['day'][idx_day][idx_subj, idx_finger, idx_trial] = \\\n",
    "            #            results['subject'][idx_subj]['stage'][idx_stage]['onedof']['day'][idx_day]['finger'][idx_finger]['trial'][idx_trial]['mae']\n",
    "\n",
    "            # ndof\n",
    "            for idx_comb in range(hy.NUM_COMBINATIONS_NDOF):\n",
    "                for idx_trial in range(hy.NUM_TRIALS_NDOF):\n",
    "                    mae_dict['stage'][idx_stage]['ndof']['day'][idx_day][idx_subj, idx_comb, idx_trial] = \\\n",
    "                        results['subject'][idx_subj]['stage'][idx_stage]['onedof']['day'][idx_day]['combination'][idx_comb]['trial'][idx_trial]['mae']\n",
    "                        # results['subject'][idx_subj]['stage'][idx_stage]['ndof']['day'][idx_day]['combination'][idx_comb]['trial'][idx_trial]['mae']\n",
    "\n",
    "            # random\n",
    "            for idx_trial in range(hy.NUM_TRIALS_RANDOM):\n",
    "                mae_dict['stage'][idx_stage]['random']['day'][idx_day][idx_subj, idx_trial] = \\\n",
    "                    results['subject'][idx_subj]['stage'][idx_stage]['random']['day'][idx_day]['trial'][idx_trial]['mae']"
   ]
  },
  {
   "cell_type": "code",
   "execution_count": 19,
   "metadata": {},
   "outputs": [
    {
     "ename": "ValueError",
     "evalue": "Dimensions of labels and X must be compatible",
     "output_type": "error",
     "traceback": [
      "\u001b[0;31m---------------------------------------------------------------------------\u001b[0m",
      "\u001b[0;31mValueError\u001b[0m                                Traceback (most recent call last)",
      "\u001b[0;32m/tmp/ipykernel_1511186/642368217.py\u001b[0m in \u001b[0;36m<module>\u001b[0;34m\u001b[0m\n\u001b[1;32m     41\u001b[0m ]\n\u001b[1;32m     42\u001b[0m \u001b[0;34m\u001b[0m\u001b[0m\n\u001b[0;32m---> 43\u001b[0;31m bp1_dict = ax.boxplot(\n\u001b[0m\u001b[1;32m     44\u001b[0m     \u001b[0mx\u001b[0m\u001b[0;34m=\u001b[0m\u001b[0mdata\u001b[0m\u001b[0;34m,\u001b[0m\u001b[0;34m\u001b[0m\u001b[0;34m\u001b[0m\u001b[0m\n\u001b[1;32m     45\u001b[0m     \u001b[0mpositions\u001b[0m\u001b[0;34m=\u001b[0m\u001b[0mpositions\u001b[0m\u001b[0;34m,\u001b[0m\u001b[0;34m\u001b[0m\u001b[0;34m\u001b[0m\u001b[0m\n",
      "\u001b[0;32m~/miniconda3/lib/python3.8/site-packages/matplotlib/__init__.py\u001b[0m in \u001b[0;36minner\u001b[0;34m(ax, data, *args, **kwargs)\u001b[0m\n\u001b[1;32m   1444\u001b[0m     \u001b[0;32mdef\u001b[0m \u001b[0minner\u001b[0m\u001b[0;34m(\u001b[0m\u001b[0max\u001b[0m\u001b[0;34m,\u001b[0m \u001b[0;34m*\u001b[0m\u001b[0margs\u001b[0m\u001b[0;34m,\u001b[0m \u001b[0mdata\u001b[0m\u001b[0;34m=\u001b[0m\u001b[0;32mNone\u001b[0m\u001b[0;34m,\u001b[0m \u001b[0;34m**\u001b[0m\u001b[0mkwargs\u001b[0m\u001b[0;34m)\u001b[0m\u001b[0;34m:\u001b[0m\u001b[0;34m\u001b[0m\u001b[0;34m\u001b[0m\u001b[0m\n\u001b[1;32m   1445\u001b[0m         \u001b[0;32mif\u001b[0m \u001b[0mdata\u001b[0m \u001b[0;32mis\u001b[0m \u001b[0;32mNone\u001b[0m\u001b[0;34m:\u001b[0m\u001b[0;34m\u001b[0m\u001b[0;34m\u001b[0m\u001b[0m\n\u001b[0;32m-> 1446\u001b[0;31m             \u001b[0;32mreturn\u001b[0m \u001b[0mfunc\u001b[0m\u001b[0;34m(\u001b[0m\u001b[0max\u001b[0m\u001b[0;34m,\u001b[0m \u001b[0;34m*\u001b[0m\u001b[0mmap\u001b[0m\u001b[0;34m(\u001b[0m\u001b[0msanitize_sequence\u001b[0m\u001b[0;34m,\u001b[0m \u001b[0margs\u001b[0m\u001b[0;34m)\u001b[0m\u001b[0;34m,\u001b[0m \u001b[0;34m**\u001b[0m\u001b[0mkwargs\u001b[0m\u001b[0;34m)\u001b[0m\u001b[0;34m\u001b[0m\u001b[0;34m\u001b[0m\u001b[0m\n\u001b[0m\u001b[1;32m   1447\u001b[0m \u001b[0;34m\u001b[0m\u001b[0m\n\u001b[1;32m   1448\u001b[0m         \u001b[0mbound\u001b[0m \u001b[0;34m=\u001b[0m \u001b[0mnew_sig\u001b[0m\u001b[0;34m.\u001b[0m\u001b[0mbind\u001b[0m\u001b[0;34m(\u001b[0m\u001b[0max\u001b[0m\u001b[0;34m,\u001b[0m \u001b[0;34m*\u001b[0m\u001b[0margs\u001b[0m\u001b[0;34m,\u001b[0m \u001b[0;34m**\u001b[0m\u001b[0mkwargs\u001b[0m\u001b[0;34m)\u001b[0m\u001b[0;34m\u001b[0m\u001b[0;34m\u001b[0m\u001b[0m\n",
      "\u001b[0;32m~/miniconda3/lib/python3.8/site-packages/matplotlib/axes/_axes.py\u001b[0m in \u001b[0;36mboxplot\u001b[0;34m(self, x, notch, sym, vert, whis, positions, widths, patch_artist, bootstrap, usermedians, conf_intervals, meanline, showmeans, showcaps, showbox, showfliers, boxprops, labels, flierprops, medianprops, meanprops, capprops, whiskerprops, manage_ticks, autorange, zorder, capwidths)\u001b[0m\n\u001b[1;32m   3906\u001b[0m             \u001b[0mbootstrap\u001b[0m \u001b[0;34m=\u001b[0m \u001b[0mmpl\u001b[0m\u001b[0;34m.\u001b[0m\u001b[0mrcParams\u001b[0m\u001b[0;34m[\u001b[0m\u001b[0;34m'boxplot.bootstrap'\u001b[0m\u001b[0;34m]\u001b[0m\u001b[0;34m\u001b[0m\u001b[0;34m\u001b[0m\u001b[0m\n\u001b[1;32m   3907\u001b[0m \u001b[0;34m\u001b[0m\u001b[0m\n\u001b[0;32m-> 3908\u001b[0;31m         bxpstats = cbook.boxplot_stats(x, whis=whis, bootstrap=bootstrap,\n\u001b[0m\u001b[1;32m   3909\u001b[0m                                        labels=labels, autorange=autorange)\n\u001b[1;32m   3910\u001b[0m         \u001b[0;32mif\u001b[0m \u001b[0mnotch\u001b[0m \u001b[0;32mis\u001b[0m \u001b[0;32mNone\u001b[0m\u001b[0;34m:\u001b[0m\u001b[0;34m\u001b[0m\u001b[0;34m\u001b[0m\u001b[0m\n",
      "\u001b[0;32m~/miniconda3/lib/python3.8/site-packages/matplotlib/cbook/__init__.py\u001b[0m in \u001b[0;36mboxplot_stats\u001b[0;34m(X, whis, bootstrap, labels, autorange)\u001b[0m\n\u001b[1;32m   1206\u001b[0m         \u001b[0mlabels\u001b[0m \u001b[0;34m=\u001b[0m \u001b[0mitertools\u001b[0m\u001b[0;34m.\u001b[0m\u001b[0mrepeat\u001b[0m\u001b[0;34m(\u001b[0m\u001b[0;32mNone\u001b[0m\u001b[0;34m)\u001b[0m\u001b[0;34m\u001b[0m\u001b[0;34m\u001b[0m\u001b[0m\n\u001b[1;32m   1207\u001b[0m     \u001b[0;32melif\u001b[0m \u001b[0mlen\u001b[0m\u001b[0;34m(\u001b[0m\u001b[0mlabels\u001b[0m\u001b[0;34m)\u001b[0m \u001b[0;34m!=\u001b[0m \u001b[0mncols\u001b[0m\u001b[0;34m:\u001b[0m\u001b[0;34m\u001b[0m\u001b[0;34m\u001b[0m\u001b[0m\n\u001b[0;32m-> 1208\u001b[0;31m         \u001b[0;32mraise\u001b[0m \u001b[0mValueError\u001b[0m\u001b[0;34m(\u001b[0m\u001b[0;34m\"Dimensions of labels and X must be compatible\"\u001b[0m\u001b[0;34m)\u001b[0m\u001b[0;34m\u001b[0m\u001b[0;34m\u001b[0m\u001b[0m\n\u001b[0m\u001b[1;32m   1209\u001b[0m \u001b[0;34m\u001b[0m\u001b[0m\n\u001b[1;32m   1210\u001b[0m     \u001b[0minput_whis\u001b[0m \u001b[0;34m=\u001b[0m \u001b[0mwhis\u001b[0m\u001b[0;34m\u001b[0m\u001b[0;34m\u001b[0m\u001b[0m\n",
      "\u001b[0;31mValueError\u001b[0m: Dimensions of labels and X must be compatible"
     ]
    },
    {
     "data": {
      "image/png": "[encoded data removed]",
      "text/plain": [
       "<Figure size 1800x400 with 1 Axes>"
      ]
     },
     "metadata": {},
     "output_type": "display_data"
    }
   ],
   "source": [
    "labels = [\n",
    "    \"Stage 0\",\n",
    "    \"Stage 1\",\n",
    "    \"Stage 2\",\n",
    "]\n",
    "color_dict = {\n",
    "    \"Stage 0\": (1.00, 1.00, 1.00),\n",
    "    \"Stage 1\": (0.67, 0.67, 0.67),\n",
    "    \"Stage 2\": (0.33, 0.33, 0.33),\n",
    "}\n",
    "medianprops = {'color': 'black'}\n",
    "\n",
    "\n",
    "fig, ax = plt.subplots(1, 1, figsize=(18.0, 4.0))\n",
    "\n",
    "ax.set_ylabel(\"Mean absolute error [MVC]\")\n",
    "\n",
    "data = [\n",
    "    # stage 0\n",
    "    # mae_dict['stage'][0]['onedof']['day'][0].flatten(),\n",
    "    # mae_dict['stage'][0]['onedof']['day'][1].flatten(),\n",
    "    mae_dict['stage'][0]['ndof']['day'][0].flatten(),\n",
    "    mae_dict['stage'][0]['ndof']['day'][1].flatten(),\n",
    "    mae_dict['stage'][0]['ndof']['day'][0].flatten(),\n",
    "    mae_dict['stage'][0]['ndof']['day'][1].flatten(),\n",
    "    mae_dict['stage'][0]['random']['day'][0].flatten(),\n",
    "    mae_dict['stage'][0]['random']['day'][1].flatten(),\n",
    "    # stage 1\n",
    "    mae_dict['stage'][1]['ndof']['day'][0].flatten(),\n",
    "    mae_dict['stage'][1]['ndof']['day'][1].flatten(),\n",
    "    mae_dict['stage'][1]['random']['day'][0].flatten(),\n",
    "    mae_dict['stage'][1]['random']['day'][1].flatten(),\n",
    "    # stage 2\n",
    "    mae_dict['stage'][2]['random']['day'][0].flatten(),\n",
    "    mae_dict['stage'][2]['random']['day'][1].flatten(),\n",
    "]\n",
    "positions = [\n",
    "    1.0, 2.0,\n",
    "    4.0 - 0.5, 4.0 + 0.5, 5.0 - 0.5, 5.0 + 0.5,\n",
    "    7.0 + 1.0, 7.0, 7.0 + 1.0, 8.0 - 1.0, 8.0, 8.0 + 1.0,\n",
    "]\n",
    "\n",
    "bp1_dict = ax.boxplot(\n",
    "    x=data,\n",
    "    positions=positions,\n",
    "    labels=labels * 3,\n",
    "    widths=0.75,\n",
    "    medianprops=medianprops,\n",
    "    patch_artist=True,\n",
    ")\n",
    "\n",
    "# COLORS?\n",
    "# idx_lbl = 0\n",
    "# for b in bp1_dict['boxes']:\n",
    "#    lbl = ax.get_xticklabels()[idx_lbl].get_text()\n",
    "#    b.set_facecolor(color_dict[lbl])\n",
    "#    if idx_lbl < 4:\n",
    "#        b.set_label(lbl)\n",
    "#    idx_lbl += 1\n",
    "\n",
    "ax.legend(loc='best')\n",
    "ax.grid(axis='y')\n",
    "ax.set_xlim([0.0, 10.0])\n",
    "ax.set_ylim([0.0, None])\n",
    "\n",
    "ax.set_xticks([2.5, 4.5, 7.5])\n",
    "ax.set_xticklabels([\"1-DoF\", \"5-DoF\", \"Random\"], weight='bold')\n",
    "# https://stackoverflow.com/questions/20532614/multiple-lines-of-x-tick-labels\n",
    "# ax.set_xticks([1.0, 2.0, 4.0, 5.0, 7.0, 8.0])\n",
    "# ax.set_xticklabels([\"Day 1\", \"Day 2\", \"Day 1\", \"Day 2\", \"Day 1\", \"Day 2\"], weight='bold')\n",
    "\n",
    "ax.tick_params(axis='x', which='both', bottom=False)\n",
    "\n",
    "plt.tight_layout()\n",
    "plt.savefig(\"./plot_mae_stages.pdf\", dpi=600, bbox_inches='tight')\n",
    "plt.show()"
   ]
  },
  {
   "cell_type": "code",
   "execution_count": null,
   "metadata": {},
   "outputs": [],
   "source": []
  }
 ],
 "metadata": {
  "kernelspec": {
   "display_name": "base",
   "language": "python",
   "name": "python3"
  },
  "language_info": {
   "codemirror_mode": {
    "name": "ipython",
    "version": 3
   },
   "file_extension": ".py",
   "mimetype": "text/x-python",
   "name": "python",
   "nbconvert_exporter": "python",
   "pygments_lexer": "ipython3",
   "version": "3.8.17"
  },
  "orig_nbformat": 4
 },
 "nbformat": 4,
 "nbformat_minor": 2
}
