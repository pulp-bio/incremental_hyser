{
 "cells": [
  {
   "cell_type": "code",
   "execution_count": 1,
   "metadata": {},
   "outputs": [],
   "source": [
    "from __future__ import annotations\n",
    "import itertools\n",
    "import pickle\n",
    "\n",
    "import numpy as np\n",
    "import scipy.stats as sstt\n",
    "# import matplotlib.pyplot as plt\n",
    "\n",
    "from ztbiocas.datasets import uniboinail as ui"
   ]
  },
  {
   "cell_type": "code",
   "execution_count": 2,
   "metadata": {},
   "outputs": [],
   "source": [
    "# results file of each experiment\n",
    "fullpath_results_multi = './results/results_multitrain_replication.pkl'\n",
    "fullpath_results_calib = './results/results_refit_replication.pkl'\n",
    "\n",
    "# load all results files\n",
    "\n",
    "with open(fullpath_results_multi, 'rb') as f:\n",
    "    results_multi = pickle.load(f)['results']\n",
    "\n",
    "with open(fullpath_results_calib, 'rb') as f:\n",
    "    results_exper = pickle.load(f)['results']"
   ]
  },
  {
   "cell_type": "code",
   "execution_count": 3,
   "metadata": {},
   "outputs": [],
   "source": [
    "NUM_REPETITIONS_MULTI = results_multi['num_repetitions']\n",
    "NUM_REPETITIONS_EXPER = results_exper['num_repetitions']\n",
    "\n",
    "FULL_CARTPROD_MULTI = list(  # made a list for reuse, notebook-style\n",
    "    itertools.product(\n",
    "        range(NUM_REPETITIONS_MULTI),\n",
    "        range(ui.NUM_SUBJECTS),\n",
    "        range(ui.NUM_DAYS),\n",
    "        range(ui.NUM_POSTURES),  # reference posture\n",
    "        range(ui.NUM_POSTURES),  # arrival posture\n",
    "    )\n",
    ")\n",
    "FULL_CARTPROD_EXPER = list(  # made a list for reuse, notebook-style\n",
    "    itertools.product(\n",
    "        range(NUM_REPETITIONS_EXPER),\n",
    "        range(ui.NUM_SUBJECTS),\n",
    "        range(ui.NUM_DAYS),\n",
    "        range(ui.NUM_POSTURES),  # reference posture\n",
    "        range(ui.NUM_POSTURES),  # arrival posture\n",
    "    )\n",
    ")\n",
    "\n",
    "reps_sublist_multi = list(range(NUM_REPETITIONS_MULTI))\n",
    "reps_sublist_exper = list(range(NUM_REPETITIONS_EXPER))\n",
    "subject_sublist     = [0, 1, 2, 3, 4, 5, 6]\n",
    "day_sublist         = [0, 1, 2, 3, 4, 5, 6, 7]\n",
    "ref_posture_sublist = [0, 1, 2, 3]  # reference postures\n",
    "tgt_posture_sublist = [0, 1, 2, 3]  # arrival postures\n",
    "\n",
    "\n",
    "CUSTOM_CARTPROD_MULTI = list(  # made a list for reuse, notebook-style\n",
    "    itertools.product(\n",
    "        reps_sublist_multi,\n",
    "        subject_sublist,\n",
    "        day_sublist,\n",
    "        tgt_posture_sublist,\n",
    "    )\n",
    ")\n",
    "\n",
    "CUSTOM_CARTPROD_EXPER = list(\n",
    "    itertools.product(  # made a list for reuse, notebook-style\n",
    "        reps_sublist_exper,\n",
    "        subject_sublist,\n",
    "        day_sublist,\n",
    "        ref_posture_sublist,\n",
    "        tgt_posture_sublist,\n",
    "    )\n",
    ")"
   ]
  },
  {
   "cell_type": "code",
   "execution_count": 4,
   "metadata": {},
   "outputs": [],
   "source": [
    "# Format accuracy data\n",
    "\n",
    "# multi-posture training\n",
    "acc_multi = np.zeros((NUM_REPETITIONS_MULTI, ui.NUM_SUBJECTS, ui.NUM_DAYS, ui.NUM_POSTURES), dtype=np.float32)\n",
    "\n",
    "for idx_repetition, idx_subject, idx_day, idx_posture in itertools.product(\n",
    "    range(NUM_REPETITIONS_MULTI), range(ui.NUM_SUBJECTS), range(ui.NUM_DAYS), range(ui.NUM_POSTURES),\n",
    "):\n",
    "    acc_multi[idx_repetition, idx_subject, idx_day, idx_posture] = \\\n",
    "        results_multi['repetition'][idx_repetition]['subject'][idx_subject]['day'][idx_day]['posture'][idx_posture]['validation']['accuracy']\n",
    "\n",
    "custom_mask_mesh = np.ix_(reps_sublist_multi, subject_sublist, day_sublist, tgt_posture_sublist)\n",
    "acc_multi = acc_multi[custom_mask_mesh]  # select all dimensions simultaneously\n",
    "\n",
    "\n",
    "# refit\n",
    "acc_calib_none = np.zeros((NUM_REPETITIONS_EXPER, ui.NUM_SUBJECTS, ui.NUM_DAYS, ui.NUM_POSTURES, ui.NUM_POSTURES), dtype=np.float32)\n",
    "acc_calib_pcaon = np.zeros((NUM_REPETITIONS_EXPER, ui.NUM_SUBJECTS, ui.NUM_DAYS, ui.NUM_POSTURES, ui.NUM_POSTURES), dtype=np.float32)\n",
    "\n",
    "for idx_repetition, idx_subject, idx_day, idx_ref_posture, idx_tgt_posture in CUSTOM_CARTPROD_EXPER:\n",
    "\n",
    "    # no adaptation\n",
    "    acc_calib_none[idx_repetition, idx_subject, idx_day, idx_ref_posture, idx_tgt_posture] = \\\n",
    "        results_exper['repetition'][idx_repetition]['subject'][idx_subject]['day'][idx_day]['reference_posture'][idx_ref_posture][\n",
    "            'target_posture'][idx_tgt_posture]['validation']['frozen']['accuracy']\n",
    "\n",
    "    # online PCA\n",
    "    acc_calib_pcaon[idx_repetition, idx_subject, idx_day, idx_ref_posture, idx_tgt_posture] = \\\n",
    "        results_exper['repetition'][idx_repetition]['subject'][idx_subject]['day'][idx_day]['reference_posture'][idx_ref_posture][\n",
    "            'target_posture'][idx_tgt_posture]['validation']['refit']['accuracy']\n",
    "\n",
    "\n",
    "# calibration modes: discard the posture-diagonal ones\n",
    "acc_calib_none_flat = []\n",
    "acc_calib_pcaon_flat = []\n",
    "\n",
    "for idx_repetition, idx_subject, idx_day, idx_ref_posture, idx_tgt_posture in CUSTOM_CARTPROD_EXPER:\n",
    "    if idx_tgt_posture != idx_ref_posture:\n",
    "        acc_calib_none_flat.append(acc_calib_none[idx_repetition, idx_subject, idx_day, idx_ref_posture, idx_tgt_posture])\n",
    "        acc_calib_pcaon_flat.append(acc_calib_pcaon[idx_repetition, idx_subject, idx_day, idx_ref_posture, idx_tgt_posture])\n",
    "\n",
    "acc_calib_none_flat = np.array(acc_calib_none_flat, dtype=np.float32)\n",
    "acc_calib_pcaon_flat = np.array(acc_calib_pcaon_flat, dtype=np.float32)"
   ]
  },
  {
   "cell_type": "code",
   "execution_count": 5,
   "metadata": {},
   "outputs": [
    {
     "name": "stdout",
     "output_type": "stream",
     "text": [
      "\t\t\tmedian +/- mad\n",
      "---------------------------------------------------------------------------------------------------------\n",
      "Multiposture train:\t0.9135 +/- 0.0306\n",
      "---------------------------------------------------------------------------------------------------------\n",
      "No adaptation:\t\t0.8143 +/- 0.0510\n",
      "Online PCA:\t\t0.8240 +/- 0.0492\n",
      "\n"
     ]
    }
   ],
   "source": [
    "# Statistics: median and Median Absolute Deviation (MAD)\n",
    "\n",
    "# median\n",
    "acc_multi_med = np.median(acc_multi)\n",
    "acc_calib_none_med = np.median(acc_calib_none_flat)\n",
    "acc_calib_pcaon_med = np.median(acc_calib_pcaon_flat)\n",
    "\n",
    "# mad\n",
    "acc_multi_mad = sstt.median_abs_deviation(acc_multi, axis=(0, 1, 2, 3))\n",
    "acc_calib_none_mad = sstt.median_abs_deviation(acc_calib_none_flat)\n",
    "acc_calib_pcaon_mad = sstt.median_abs_deviation(acc_calib_pcaon_flat)\n",
    "\n",
    "\n",
    "# Display results\n",
    "print(\n",
    "    f\"\\t\\t\\tmedian +/- mad\\n\"\n",
    "    f\"---------------------------------------------------------------------------------------------------------\\n\"\n",
    "    f\"Multiposture train:\\t{acc_multi_med:.4f} +/- {acc_multi_mad:.4f}\\n\"\n",
    "    f\"---------------------------------------------------------------------------------------------------------\\n\"\n",
    "    f\"No adaptation:\\t\\t{acc_calib_none_med:.4f} +/- {acc_calib_none_mad:.4f}\\n\"\n",
    "    f\"Online PCA:\\t\\t{acc_calib_pcaon_med:.4f} +/- {acc_calib_pcaon_mad:.4f}\\n\"\n",
    ")"
   ]
  },
  {
   "cell_type": "code",
   "execution_count": 6,
   "metadata": {},
   "outputs": [
    {
     "name": "stdout",
     "output_type": "stream",
     "text": [
      "0.0981\n"
     ]
    }
   ],
   "source": [
    "recovered_drop_med_fraction = (acc_calib_pcaon_med - acc_calib_none_med) / (acc_multi_med - acc_calib_none_med)\n",
    "print(recovered_drop_med_fraction.round(4))"
   ]
  },
  {
   "cell_type": "code",
   "execution_count": null,
   "metadata": {},
   "outputs": [],
   "source": []
  }
 ],
 "metadata": {
  "kernelspec": {
   "display_name": "base",
   "language": "python",
   "name": "python3"
  },
  "language_info": {
   "codemirror_mode": {
    "name": "ipython",
    "version": 3
   },
   "file_extension": ".py",
   "mimetype": "text/x-python",
   "name": "python",
   "nbconvert_exporter": "python",
   "pygments_lexer": "ipython3",
   "version": "3.8.17"
  },
  "orig_nbformat": 4
 },
 "nbformat": 4,
 "nbformat_minor": 2
}
