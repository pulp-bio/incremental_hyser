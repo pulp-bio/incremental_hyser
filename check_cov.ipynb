{
 "cells": [
  {
   "cell_type": "code",
   "execution_count": 6,
   "metadata": {},
   "outputs": [],
   "source": [
    "import numpy as np\n",
    "\n",
    "from ztbiocas.online import covariance as cov"
   ]
  },
  {
   "cell_type": "code",
   "execution_count": 15,
   "metadata": {},
   "outputs": [
    {
     "name": "stdout",
     "output_type": "stream",
     "text": [
      "[ 49.5 149.5 249.5 349.5]\n",
      "[[841.66666667 841.66666667 841.66666667 841.66666667]\n",
      " [841.66666667 841.66666667 841.66666667 841.66666667]\n",
      " [841.66666667 841.66666667 841.66666667 841.66666667]\n",
      " [841.66666667 841.66666667 841.66666667 841.66666667]]\n"
     ]
    }
   ],
   "source": [
    "# x = np.random.rand(4, 3)\n",
    "x = np.arange(400, dtype=np.float32).reshape((4, 100))\n",
    "print(np.mean(x, axis=1))\n",
    "print(np.cov(x))"
   ]
  },
  {
   "cell_type": "code",
   "execution_count": 16,
   "metadata": {},
   "outputs": [
    {
     "name": "stdout",
     "output_type": "stream",
     "text": [
      "[ 50. 150. 250. 350.]\n",
      "[[820.8825 820.8825 820.8825 820.8825]\n",
      " [820.8825 820.8825 820.8825 820.8825]\n",
      " [820.8825 820.8825 820.8825 820.8825]\n",
      " [820.8825 820.8825 820.8825 820.8825]]\n",
      "100\n"
     ]
    }
   ],
   "source": [
    "avgx, covx, n_seen = cov.cov_online(x)\n",
    "print(avgx)\n",
    "print(covx)\n",
    "print(n_seen)"
   ]
  },
  {
   "cell_type": "code",
   "execution_count": null,
   "metadata": {},
   "outputs": [],
   "source": []
  }
 ],
 "metadata": {
  "kernelspec": {
   "display_name": "base",
   "language": "python",
   "name": "python3"
  },
  "language_info": {
   "codemirror_mode": {
    "name": "ipython",
    "version": 3
   },
   "file_extension": ".py",
   "mimetype": "text/x-python",
   "name": "python",
   "nbconvert_exporter": "python",
   "pygments_lexer": "ipython3",
   "version": "3.8.17"
  }
 },
 "nbformat": 4,
 "nbformat_minor": 2
}
