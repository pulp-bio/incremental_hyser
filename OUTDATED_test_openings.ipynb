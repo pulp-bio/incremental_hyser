{
 "cells": [
  {
   "cell_type": "code",
   "execution_count": null,
   "metadata": {},
   "outputs": [],
   "source": [
    "from itertools import product\n",
    "import pickle\n",
    "\n",
    "import matplotlib.pyplot as plt\n",
    "\n",
    "from incremental_hyser.hyser import hyser as hy"
   ]
  },
  {
   "cell_type": "code",
   "execution_count": 45,
   "metadata": {},
   "outputs": [],
   "source": [
    "with open('../data_dict.pkl', 'rb') as handle:\n",
    "    data_dict = pickle.load(handle)\n",
    "\n",
    "xraw = data_dict['xraw']\n",
    "xpre = data_dict['xpre']\n",
    "del data_dict"
   ]
  },
  {
   "cell_type": "code",
   "execution_count": null,
   "metadata": {},
   "outputs": [],
   "source": [
    "plt.figure(figsize=(20.0, 10.0))\n",
    "\n",
    "plt.plot(xraw[90], 'k-', linewidth=0.5)\n",
    "plt.plot(xpre[90], 'r-', linewidth=0.5)\n",
    "plt.plot(xpre[90] - xraw[90], 'b-', linewidth=0.5)\n",
    "\n",
    "plt.grid()\n",
    "plt.axis([3000.0, 4500.0, None, None])\n",
    "plt.show()"
   ]
  },
  {
   "cell_type": "code",
   "execution_count": null,
   "metadata": {},
   "outputs": [],
   "source": [
    "import numpy as np\n",
    "from scipy import signal\n",
    "\n",
    "\n",
    "fs = 2048.0\n",
    "\n",
    "f_raw, Pxxden_raw = signal.periodogram(xraw[90], fs)\n",
    "f_pre, Pxxden_pre = signal.periodogram(xpre[90], fs)\n",
    "\n",
    "plt.figure(figsize=(20.0, 10.0))\n",
    "# plt.semilogy(f_raw, Pxxden_raw, 'k-', linewidth=0.5)\n",
    "# plt.semilogy(f_pre, Pxxden_pre, 'r-', linewidth=0.5)\n",
    "plt.plot(f_pre, Pxxden_pre - Pxxden_raw, 'b-', linewidth=0.25)\n",
    "\n",
    "plt.xscale('log')\n",
    "plt.xlim([1.0, 1024.0])\n",
    "plt.ylim([-0.00001, (Pxxden_pre - Pxxden_raw).max()])\n",
    "\n",
    "plt.xlabel('Frequency (Hz)')\n",
    "plt.ylabel('PSD (V**2/Hz)')\n",
    "plt.grid()\n",
    "plt.show()"
   ]
  },
  {
   "cell_type": "code",
   "execution_count": null,
   "metadata": {},
   "outputs": [],
   "source": []
  }
 ],
 "metadata": {
  "kernelspec": {
   "display_name": "base",
   "language": "python",
   "name": "python3"
  },
  "language_info": {
   "codemirror_mode": {
    "name": "ipython",
    "version": 3
   },
   "file_extension": ".py",
   "mimetype": "text/x-python",
   "name": "python",
   "nbconvert_exporter": "python",
   "pygments_lexer": "ipython3",
   "version": "3.8.17"
  }
 },
 "nbformat": 4,
 "nbformat_minor": 2
}
